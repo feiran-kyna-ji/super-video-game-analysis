{
 "cells": [
  {
   "cell_type": "markdown",
   "metadata": {},
   "source": [
    "# Super Video Game Analysis - Beta Release (1 of 3)\n",
    "Author: Feiran Ji, Chenxi Ge"
   ]
  },
  {
   "cell_type": "markdown",
   "metadata": {},
   "source": [
    "This notebook contains the 1st part of our analysis: we analyze the global market."
   ]
  },
  {
   "cell_type": "code",
   "execution_count": 29,
   "metadata": {},
   "outputs": [],
   "source": [
    "import plotly\n",
    "import pandas as pd\n",
    "\n",
    "import plotly.plotly as py\n",
    "import plotly.graph_objs as go\n",
    "import numpy as np"
   ]
  },
  {
   "cell_type": "code",
   "execution_count": 30,
   "metadata": {},
   "outputs": [
    {
     "data": {
      "text/html": [
       "<div>\n",
       "<style>\n",
       "    .dataframe thead tr:only-child th {\n",
       "        text-align: right;\n",
       "    }\n",
       "\n",
       "    .dataframe thead th {\n",
       "        text-align: left;\n",
       "    }\n",
       "\n",
       "    .dataframe tbody tr th {\n",
       "        vertical-align: top;\n",
       "    }\n",
       "</style>\n",
       "<table border=\"1\" class=\"dataframe\">\n",
       "  <thead>\n",
       "    <tr style=\"text-align: right;\">\n",
       "      <th></th>\n",
       "      <th>Year_of_Release</th>\n",
       "      <th>Sales_NA</th>\n",
       "      <th>Sales_EU</th>\n",
       "      <th>Sales_JP</th>\n",
       "      <th>Sales_Other</th>\n",
       "      <th>id</th>\n",
       "    </tr>\n",
       "  </thead>\n",
       "  <tbody>\n",
       "    <tr>\n",
       "      <th>0</th>\n",
       "      <td>1980.0</td>\n",
       "      <td>10.59</td>\n",
       "      <td>0.67</td>\n",
       "      <td>0.00</td>\n",
       "      <td>0.12</td>\n",
       "      <td>0</td>\n",
       "    </tr>\n",
       "    <tr>\n",
       "      <th>1</th>\n",
       "      <td>1981.0</td>\n",
       "      <td>33.40</td>\n",
       "      <td>1.96</td>\n",
       "      <td>0.00</td>\n",
       "      <td>0.32</td>\n",
       "      <td>1</td>\n",
       "    </tr>\n",
       "    <tr>\n",
       "      <th>2</th>\n",
       "      <td>1982.0</td>\n",
       "      <td>26.92</td>\n",
       "      <td>1.65</td>\n",
       "      <td>0.00</td>\n",
       "      <td>0.31</td>\n",
       "      <td>2</td>\n",
       "    </tr>\n",
       "    <tr>\n",
       "      <th>3</th>\n",
       "      <td>1983.0</td>\n",
       "      <td>7.76</td>\n",
       "      <td>0.80</td>\n",
       "      <td>8.10</td>\n",
       "      <td>0.14</td>\n",
       "      <td>3</td>\n",
       "    </tr>\n",
       "    <tr>\n",
       "      <th>4</th>\n",
       "      <td>1984.0</td>\n",
       "      <td>33.28</td>\n",
       "      <td>2.10</td>\n",
       "      <td>14.27</td>\n",
       "      <td>0.70</td>\n",
       "      <td>4</td>\n",
       "    </tr>\n",
       "  </tbody>\n",
       "</table>\n",
       "</div>"
      ],
      "text/plain": [
       "   Year_of_Release  Sales_NA  Sales_EU  Sales_JP  Sales_Other  id\n",
       "0           1980.0     10.59      0.67      0.00         0.12   0\n",
       "1           1981.0     33.40      1.96      0.00         0.32   1\n",
       "2           1982.0     26.92      1.65      0.00         0.31   2\n",
       "3           1983.0      7.76      0.80      8.10         0.14   3\n",
       "4           1984.0     33.28      2.10     14.27         0.70   4"
      ]
     },
     "execution_count": 30,
     "metadata": {},
     "output_type": "execute_result"
    }
   ],
   "source": [
    "data = pd.read_csv('vg_sales_rating.csv')\n",
    "data = data[(~data.Name.isnull()) & (data.Year_of_Release <= 2016)\n",
    "            & (~data.Genre.isnull()) & (~data.Publisher.isnull())]\n",
    "\n",
    "data = data.groupby(['Year_of_Release']).sum().loc[:,['NA_Sales','EU_Sales','JP_Sales','Other_Sales']]\n",
    "data.columns = ['Sales_NA', 'Sales_EU', 'Sales_JP', 'Sales_Other']\n",
    "data = data.reset_index(level=[0])\n",
    "data['id'] = data.index\n",
    "data.head(5)"
   ]
  },
  {
   "cell_type": "code",
   "execution_count": 31,
   "metadata": {},
   "outputs": [
    {
     "data": {
      "text/plain": [
       "(   Year_of_Release GeoLocation  Sales  Lon  Lat\n",
       " 0           1980.0    Sales_NA  10.59 -100   45\n",
       " 1           1981.0    Sales_NA  33.40 -100   45\n",
       " 2           1982.0    Sales_NA  26.92 -100   45\n",
       " 3           1983.0    Sales_NA   7.76 -100   45\n",
       " 4           1984.0    Sales_NA  33.28 -100   45, (148, 5))"
      ]
     },
     "execution_count": 31,
     "metadata": {},
     "output_type": "execute_result"
    }
   ],
   "source": [
    "melt_data = pd.melt(data,\n",
    "                    id_vars=['Year_of_Release'],\n",
    "                    value_vars=['Sales_NA', 'Sales_EU', 'Sales_JP', 'Sales_Other'],\n",
    "                    var_name='GeoLocation', value_name='Sales')\n",
    "\n",
    "GeoMap = {\n",
    "    'Sales_NA': (-100, 45),\n",
    "    'Sales_EU': (15, 50),\n",
    "    'Sales_JP': (140, 37),\n",
    "    'Sales_Other': (60, -25)\n",
    "}\n",
    "GPS = melt_data.loc[:, 'GeoLocation'].map(GeoMap)\n",
    "melt_data['Lon'] = GPS.map(lambda x: x[0])\n",
    "melt_data['Lat'] = GPS.map(lambda x: x[1])\n",
    "\n",
    "melt_data.head(), melt_data.shape"
   ]
  },
  {
   "cell_type": "code",
   "execution_count": 33,
   "metadata": {},
   "outputs": [
    {
     "data": {
      "text/html": [
       "<iframe id=\"igraph\" scrolling=\"no\" style=\"border:none;\" seamless=\"seamless\" src=\"https://plot.ly/~atlasgcx/85.embed\" height=\"600px\" width=\"900px\"></iframe>"
      ],
      "text/plain": [
       "<plotly.tools.PlotlyDisplay object>"
      ]
     },
     "execution_count": 33,
     "metadata": {},
     "output_type": "execute_result"
    }
   ],
   "source": [
    "yearly = []  \n",
    "for i in sorted(list(set(melt_data.Year_of_Release))):\n",
    "    df_sub = melt_data[melt_data.Year_of_Release == i]\n",
    "    city = dict(\n",
    "        type = 'scattergeo',\n",
    "        locationmode = 'USA-states',\n",
    "        visible=False,\n",
    "        lon = df_sub['Lon'],\n",
    "        lat = df_sub['Lat'],\n",
    "        text = df_sub['Sales'],\n",
    "        marker = dict(\n",
    "            size = df_sub['Sales'] * 3,\n",
    "            color = ['rgb(215,25,28)', 'rgb(253,174,97)', 'rgb(26,150,65)', 'rgb(44,123,182)'],\n",
    "            line = dict(width=0.5, color='rgb(40,40,40)'),\n",
    "            sizemode = 'area'\n",
    "        ),\n",
    "        name = 'Year {}'.format(i) )\n",
    "    yearly.append(city)\n",
    "\n",
    "yearly = yearly[:-3]\n",
    "    \n",
    "yearly[5]['visible'] = True\n",
    "\n",
    "steps = []\n",
    "for i in range(len(yearly)):\n",
    "    step = dict(\n",
    "        method = 'restyle',\n",
    "        label = str(i + 1980),\n",
    "        args = ['visible', [False] * len(yearly)],\n",
    "    )\n",
    "    step['args'][1][i] = True # Toggle i'th trace to \"visible\"\n",
    "    steps.append(step)\n",
    "    \n",
    "sliders = [dict(\n",
    "    active = 5,\n",
    "    currentvalue = {\"prefix\": \"Year: \"},\n",
    "    pad = {\"t\": 0},\n",
    "    steps = steps\n",
    ")]\n",
    "\n",
    "layout = dict(sliders=sliders,\n",
    "              title='Total Sales by year in each Region',\n",
    "              xaxis=dict(title='Year'),\n",
    "              width=900, height=600)\n",
    "\n",
    "fig = dict(data=yearly, layout=layout)\n",
    "\n",
    "py.iplot(fig, filename='Sine Wave Slider')"
   ]
  },
  {
   "cell_type": "code",
   "execution_count": null,
   "metadata": {},
   "outputs": [],
   "source": []
  },
  {
   "cell_type": "code",
   "execution_count": null,
   "metadata": {},
   "outputs": [],
   "source": []
  }
 ],
 "metadata": {
  "kernelspec": {
   "display_name": "Python 3",
   "language": "python",
   "name": "python3"
  },
  "language_info": {
   "codemirror_mode": {
    "name": "ipython",
    "version": 3
   },
   "file_extension": ".py",
   "mimetype": "text/x-python",
   "name": "python",
   "nbconvert_exporter": "python",
   "pygments_lexer": "ipython3",
   "version": "3.6.3"
  }
 },
 "nbformat": 4,
 "nbformat_minor": 2
}
