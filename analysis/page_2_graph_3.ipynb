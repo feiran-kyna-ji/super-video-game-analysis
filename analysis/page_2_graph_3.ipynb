{
 "cells": [
  {
   "cell_type": "code",
   "execution_count": 25,
   "metadata": {},
   "outputs": [],
   "source": [
    "import numpy as np\n",
    "import pandas as pd\n",
    "from collections import Counter\n",
    "\n",
    "import plotly.plotly as py\n",
    "import plotly.graph_objs as go\n",
    "\n",
    "import colorlover as cl"
   ]
  },
  {
   "cell_type": "code",
   "execution_count": 26,
   "metadata": {},
   "outputs": [
    {
     "name": "stdout",
     "output_type": "stream",
     "text": [
      "(16719, 16)\n",
      "(16412, 16)\n"
     ]
    }
   ],
   "source": [
    "data = pd.read_csv('vg_sales_rating.csv')\n",
    "print(data.shape)\n",
    "\n",
    "data = data[(~data.Name.isnull()) & (data.Year_of_Release <= 2016)\n",
    "            & (~data.Genre.isnull()) & (~data.Publisher.isnull())]\n",
    "print(data.shape)"
   ]
  },
  {
   "cell_type": "code",
   "execution_count": 27,
   "metadata": {},
   "outputs": [],
   "source": [
    "data = data[(~data.Critic_Score.isnull())]\n",
    "top100 = data.sort_values(by=['Global_Sales'], ascending=False).iloc[:100,:]"
   ]
  },
  {
   "cell_type": "code",
   "execution_count": 28,
   "metadata": {},
   "outputs": [],
   "source": [
    "color_map = {}\n",
    "for k,v in zip(cl.scales['10']['qual']['Paired'], sorted(list(set(top100.Genre)))):\n",
    "    color_map[v] = k"
   ]
  },
  {
   "cell_type": "code",
   "execution_count": 29,
   "metadata": {},
   "outputs": [
    {
     "data": {
      "text/html": [
       "<iframe id=\"igraph\" scrolling=\"no\" style=\"border:none;\" seamless=\"seamless\" src=\"https://plot.ly/~atlasgcx/53.embed\" height=\"525px\" width=\"100%\"></iframe>"
      ],
      "text/plain": [
       "<plotly.tools.PlotlyDisplay object>"
      ]
     },
     "execution_count": 29,
     "metadata": {},
     "output_type": "execute_result"
    }
   ],
   "source": [
    "data = []\n",
    "for genre in list(set(top100.Genre)):\n",
    "    this_genre = top100[top100.Genre == genre]\n",
    "    trace = go.Scatter(\n",
    "        x = this_genre.Year_of_Release,\n",
    "        y = this_genre.Critic_Score,\n",
    "        mode='markers',\n",
    "        marker=dict(\n",
    "            size=np.sqrt(this_genre.Global_Sales) * 10,\n",
    "            color = color_map[genre]\n",
    "        ),\n",
    "        name=genre,\n",
    "        text=this_genre.Name\n",
    "    )\n",
    "    data.append(trace)\n",
    "\n",
    "layout = dict(title = 'Top 100 Games (by Total Sale) Critic score trend',\n",
    "              hovermode= 'closest',\n",
    "              xaxis = dict(title = 'Year'),\n",
    "              yaxis = dict(title = 'Critic score')\n",
    "              )\n",
    "fig = dict(data=data, layout=layout)\n",
    "py.iplot(fig, filename='page_2_graph_3')"
   ]
  },
  {
   "cell_type": "code",
   "execution_count": null,
   "metadata": {
    "collapsed": true
   },
   "outputs": [],
   "source": []
  },
  {
   "cell_type": "code",
   "execution_count": null,
   "metadata": {
    "collapsed": true
   },
   "outputs": [],
   "source": []
  }
 ],
 "metadata": {
  "kernelspec": {
   "display_name": "Python 3",
   "language": "python",
   "name": "python3"
  },
  "language_info": {
   "codemirror_mode": {
    "name": "ipython",
    "version": 3
   },
   "file_extension": ".py",
   "mimetype": "text/x-python",
   "name": "python",
   "nbconvert_exporter": "python",
   "pygments_lexer": "ipython3",
   "version": "3.6.3"
  }
 },
 "nbformat": 4,
 "nbformat_minor": 2
}
