{
 "cells": [
  {
   "cell_type": "code",
   "execution_count": 1,
   "metadata": {},
   "outputs": [],
   "source": [
    "import numpy as np\n",
    "import pandas as pd\n",
    "from collections import Counter\n",
    "\n",
    "import plotly.plotly as py\n",
    "import plotly.graph_objs as go"
   ]
  },
  {
   "cell_type": "code",
   "execution_count": 2,
   "metadata": {},
   "outputs": [
    {
     "name": "stdout",
     "output_type": "stream",
     "text": [
      "(16719, 16)\n",
      "(16412, 16)\n"
     ]
    }
   ],
   "source": [
    "data = pd.read_csv('vg_sales_rating.csv')\n",
    "print(data.shape)\n",
    "\n",
    "data = data[(~data.Name.isnull()) & (data.Year_of_Release <= 2016)\n",
    "            & (~data.Genre.isnull()) & (~data.Publisher.isnull())]\n",
    "print(data.shape)"
   ]
  },
  {
   "cell_type": "code",
   "execution_count": 3,
   "metadata": {},
   "outputs": [],
   "source": [
    "data.drop(['Critic_Score', 'Critic_Count', 'User_Score', 'User_Count', 'Developer'], axis=1, inplace=True)\n",
    "data = data.fillna({'Rating': 'NoR'})"
   ]
  },
  {
   "cell_type": "code",
   "execution_count": 4,
   "metadata": {},
   "outputs": [],
   "source": [
    "data = data[(data.Year_of_Release >= 2000)]"
   ]
  },
  {
   "cell_type": "code",
   "execution_count": 5,
   "metadata": {},
   "outputs": [],
   "source": [
    "rating_included = ['E', 'E10+', 'T', 'M', 'NoR']\n",
    "data = data[data.Rating.isin(rating_included)]"
   ]
  },
  {
   "cell_type": "code",
   "execution_count": 6,
   "metadata": {},
   "outputs": [],
   "source": [
    "by_rating_year_sales = data.groupby(['Rating', 'Year_of_Release']).Global_Sales.sum()\n",
    "by_year_sales = data.groupby(['Year_of_Release']).Global_Sales.sum()"
   ]
  },
  {
   "cell_type": "code",
   "execution_count": 7,
   "metadata": {},
   "outputs": [
    {
     "data": {
      "text/html": [
       "<iframe id=\"igraph\" scrolling=\"no\" style=\"border:none;\" seamless=\"seamless\" src=\"https://plot.ly/~atlasgcx/49.embed\" height=\"525px\" width=\"100%\"></iframe>"
      ],
      "text/plain": [
       "<plotly.tools.PlotlyDisplay object>"
      ]
     },
     "execution_count": 7,
     "metadata": {},
     "output_type": "execute_result"
    }
   ],
   "source": [
    "data = []\n",
    "\n",
    "for rating in rating_included:\n",
    "    this_rating = by_rating_year_sales[rating] / by_year_sales\n",
    "    trace = go.Bar(\n",
    "        x = this_rating.index,\n",
    "        y = this_rating.values,\n",
    "        name = rating\n",
    "    )\n",
    "    data.append(trace)\n",
    "\n",
    "layout = dict(title = 'Total Sales percentage by Rating between year 2000 and 2016',\n",
    "              xaxis = dict(title = 'Year'),\n",
    "              yaxis = dict(title = 'Percentage'),\n",
    "              barmode='stack'\n",
    "              )\n",
    "fig = dict(data=data, layout=layout)\n",
    "py.iplot(fig, filename='page_2_graph_2')"
   ]
  },
  {
   "cell_type": "code",
   "execution_count": null,
   "metadata": {},
   "outputs": [],
   "source": []
  },
  {
   "cell_type": "code",
   "execution_count": null,
   "metadata": {},
   "outputs": [],
   "source": []
  }
 ],
 "metadata": {
  "kernelspec": {
   "display_name": "Python 3",
   "language": "python",
   "name": "python3"
  },
  "language_info": {
   "codemirror_mode": {
    "name": "ipython",
    "version": 3
   },
   "file_extension": ".py",
   "mimetype": "text/x-python",
   "name": "python",
   "nbconvert_exporter": "python",
   "pygments_lexer": "ipython3",
   "version": "3.6.3"
  }
 },
 "nbformat": 4,
 "nbformat_minor": 2
}
